{
 "cells": [
  {
   "cell_type": "code",
   "execution_count": 1,
   "metadata": {},
   "outputs": [],
   "source": [
    "import numpy as np"
   ]
  },
  {
   "cell_type": "code",
   "execution_count": 2,
   "metadata": {},
   "outputs": [],
   "source": [
    "def one_hot(labels, n_labels):\n",
    "    l = len(labels)\n",
    "    oh = np.zeros((l, n_labels))\n",
    "    oh[np.arange(l), labels] = 1\n",
    "    return oh\n",
    "\n",
    "def intersection_over_union(predictions, labels_one_hotted):\n",
    "    \"\"\"\n",
    "    Performs intersection over union\n",
    "    \n",
    "    Args:\n",
    "        - predictions: a numpy array with shape (batch_size, n_labels)\n",
    "        - labels_one_hotted: numpy array with shape (batch_size, n_labels)\n",
    "    Returns:\n",
    "        - n right predictions per class\n",
    "    \"\"\"\n",
    "    intersection = predictions * labels_one_hotted\n",
    "    i_sum = np.sum(intersection, axis=0)\n",
    "    union = predictions + labels_one_hotted\n",
    "    den = np.sum(union, axis=0)\n",
    "    return 2*i_sum.astype(float)/den.astype(float)\n",
    "\n",
    "def intersection_over_union_sum(predictions, labels_one_hotted):\n",
    "    intersection = predictions * labels_one_hotted\n",
    "    i_sum = np.sum(intersection)\n",
    "    union = predictions + labels_one_hotted\n",
    "    den = np.sum(union)\n",
    "    return 2*i_sum.astype(float)/den.astype(float)"
   ]
  },
  {
   "cell_type": "code",
   "execution_count": 6,
   "metadata": {},
   "outputs": [
    {
     "data": {
      "text/plain": [
       "array([ 0.66666667,  0.        ,  1.        ])"
      ]
     },
     "execution_count": 6,
     "metadata": {},
     "output_type": "execute_result"
    }
   ],
   "source": [
    "a = np.array([[1,0,0],\n",
    "              [1,1,0],\n",
    "              [0,1,1]])\n",
    "b = np.array([1,0,2])\n",
    "\n",
    "label_names = ['A', 'B', 'C']\n",
    "\n",
    "b_oh = one_hot(b, 3)\n",
    "iou = intersection_over_union(a,b_oh)\n",
    "iou"
   ]
  },
  {
   "cell_type": "code",
   "execution_count": 4,
   "metadata": {},
   "outputs": [
    {
     "data": {
      "text/plain": [
       "0.5"
      ]
     },
     "execution_count": 4,
     "metadata": {},
     "output_type": "execute_result"
    }
   ],
   "source": [
    "intersection_over_union_sum(a,b_oh)"
   ]
  },
  {
   "cell_type": "code",
   "execution_count": 22,
   "metadata": {},
   "outputs": [],
   "source": [
    "def string_iou(iou, label_names):\n",
    "    return '\\n'.join('\\t{:25} {:6.3f}'.format(n,i*100) for n,i in zip(label_names, iou))+'\\n'\n",
    "    "
   ]
  },
  {
   "cell_type": "code",
   "execution_count": 23,
   "metadata": {},
   "outputs": [
    {
     "name": "stdout",
     "output_type": "stream",
     "text": [
      "\tA                         66.667\n",
      "\tB                          0.000\n",
      "\tC                         100.000\n",
      "\n"
     ]
    }
   ],
   "source": [
    "print(string_iou(iou, label_names))"
   ]
  },
  {
   "cell_type": "code",
   "execution_count": null,
   "metadata": {},
   "outputs": [],
   "source": []
  }
 ],
 "metadata": {
  "kernelspec": {
   "display_name": "Python 2",
   "language": "python",
   "name": "python2"
  },
  "language_info": {
   "codemirror_mode": {
    "name": "ipython",
    "version": 2
   },
   "file_extension": ".py",
   "mimetype": "text/x-python",
   "name": "python",
   "nbconvert_exporter": "python",
   "pygments_lexer": "ipython2",
   "version": "2.7.12"
  }
 },
 "nbformat": 4,
 "nbformat_minor": 2
}
